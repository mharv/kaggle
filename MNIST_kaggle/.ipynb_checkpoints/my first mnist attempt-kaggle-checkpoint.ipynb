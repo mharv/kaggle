{
 "cells": [
  {
   "cell_type": "code",
   "execution_count": null,
   "metadata": {
    "_cell_guid": "15e5bb63-cd80-4530-b720-5ae752a46bda",
    "_uuid": "1851eaab8b828d7b5f53677be2b01cffe0cca6ff"
   },
   "outputs": [],
   "source": [
    "# Put these at the top of every notebook, to get automatic reloading and inline plotting\n",
    "%reload_ext autoreload\n",
    "%autoreload 2\n",
    "%matplotlib inline\n",
    "\n",
    "# Importing required libraries\n",
    "import numpy as np \n",
    "import pandas as pd \n",
    "import matplotlib.pyplot as plt\n",
    "import seaborn as sns\n",
    "import keras\n",
    "import sklearn\n",
    "from keras.models import Sequential\n",
    "from keras.layers import Dense, Activation, Dropout, Flatten\n",
    "from keras.layers import Conv2D, MaxPooling2D\n",
    "from keras.optimizers import SGD\n",
    "\n",
    "from sklearn.model_selection import train_test_split\n",
    "\n"
   ]
  },
  {
   "cell_type": "code",
   "execution_count": null,
   "metadata": {
    "_uuid": "bb2a1ba3c462b580c97a29a36a756e6720e3da39"
   },
   "outputs": [],
   "source": [
    "#load CSVs\n",
    "\n",
    "#PATH = \"/home/mitchell/Desktop/myNotebooks/MNIST_kaggle/data/\"\n",
    "\n",
    "\n",
    "trainset=pd.read_csv(\"/home/mitchell/Desktop/myNotebooks/MNIST_kaggle/data/train.csv\")\n",
    "x_test=pd.read_csv(\"/home/mitchell/Desktop/myNotebooks/MNIST_kaggle/data/test.csv\")"
   ]
  },
  {
   "cell_type": "code",
   "execution_count": null,
   "metadata": {
    "_uuid": "4537a798d21cf8426d4eaa8866cfc5bca7af7d28"
   },
   "outputs": [],
   "source": [
    "# visualize data\n",
    "trainset.head()"
   ]
  },
  {
   "cell_type": "code",
   "execution_count": null,
   "metadata": {
    "_uuid": "c7442a665dc4afe113ed8b99cd26babbfd7a0ea8"
   },
   "outputs": [],
   "source": [
    "#find out the column names of the training dataframe so we can seperate the labels\n",
    "#from the training examples\n",
    "trainset.columns"
   ]
  },
  {
   "cell_type": "code",
   "execution_count": null,
   "metadata": {
    "_uuid": "8c9048e728d93fdd7a8db6104a4da3730a5a44d5"
   },
   "outputs": [],
   "source": [
    "# creates a dataframe with the training data outputs\n",
    "y_train = trainset['label']\n",
    "# make sure it is correct \n",
    "y_train.shape\n",
    "#This line shows us the distribution of the data\n",
    "dist = y_train.value_counts(sort=False)\n",
    "# transpose the list\n",
    "dist = dist.T\n",
    "#print(dist)\n",
    "type(dist)\n",
    "distDF = pd.DataFrame([dist])\n",
    "print(distDF)"
   ]
  },
  {
   "cell_type": "code",
   "execution_count": null,
   "metadata": {
    "_uuid": "42f93d307b80549b75399fdb11f041f24f9449f0"
   },
   "outputs": [],
   "source": [
    "# plotting the distribution\n",
    "#sns.set_style(\"whitegrid\")\n",
    "ax = sns.barplot(data=distDF,)"
   ]
  },
  {
   "cell_type": "code",
   "execution_count": null,
   "metadata": {
    "_uuid": "c04ed6966dc6cbedc31a593844d27f006a76c86c"
   },
   "outputs": [],
   "source": [
    "# convert y_train to array for keras \n",
    "y_train = y_train.values\n",
    "type(y_train)\n",
    "\n",
    "\n",
    "# to build x_train we copy the original dataframe\n",
    "trainset_copy = trainset\n",
    "# delete the labels from the copy\n",
    "del trainset_copy['label']\n",
    "# rename the result to x_train\n",
    "x_train = trainset_copy"
   ]
  },
  {
   "cell_type": "code",
   "execution_count": null,
   "metadata": {
    "_uuid": "aee6830e9e49a30a445952c0fa5650a62e560278"
   },
   "outputs": [],
   "source": [
    "# input image dimensions\n",
    "img_rows, img_cols = 28, 28\n",
    "\n",
    "\n",
    "x_train = x_train.values\n",
    "x_test = x_test.values\n",
    "x_train = x_train.reshape(x_train.shape[0], img_rows, img_cols, 1)\n",
    "x_test = x_test.reshape(x_test.shape[0], img_rows, img_cols, 1)"
   ]
  },
  {
   "cell_type": "code",
   "execution_count": null,
   "metadata": {
    "_uuid": "89e60169bc0c073c0d7c71501c276828023fcf0c"
   },
   "outputs": [],
   "source": [
    "# create cross validation set\n",
    "x_train, x_crossval, y_train, y_crossval = train_test_split(x_train, y_train, test_size = 0.1)\n"
   ]
  },
  {
   "cell_type": "code",
   "execution_count": null,
   "metadata": {
    "_uuid": "74ce5e7cc6adff24ce2e9eb96e75ac40c4c031c3"
   },
   "outputs": [],
   "source": [
    "# visualize data\n",
    "x_test.shape\n",
    "x_train.shape\n"
   ]
  },
  {
   "cell_type": "code",
   "execution_count": null,
   "metadata": {
    "_uuid": "2660e378f817223c5c3655569d1aeecc155c32ab"
   },
   "outputs": [],
   "source": [
    "# initialize some variables\n",
    "batch_size = 128\n",
    "num_classes = 10\n",
    "epochs = 12\n",
    "input_shape = (img_rows, img_cols, 1)\n"
   ]
  },
  {
   "cell_type": "code",
   "execution_count": null,
   "metadata": {
    "_uuid": "b32bad7f570a14e8b293cb59a4ac5e575784ba2c"
   },
   "outputs": [],
   "source": [
    "#normalize data\n",
    "#convert to floating point\n",
    "x_train = x_train.astype('float32')\n",
    "x_crossval = x_crossval.astype('float32')\n",
    "x_test = x_test.astype('float32')\n",
    "#divide by 255 to get values between 0 and 1\n",
    "x_train /= 255\n",
    "x_crossval /= 255\n",
    "x_test /= 255"
   ]
  },
  {
   "cell_type": "code",
   "execution_count": null,
   "metadata": {
    "_uuid": "c6705a65e7a33c5582a9bfc47949ce6b48137392"
   },
   "outputs": [],
   "source": [
    "# convert class vectors to binary class matrices\n",
    "y_train = keras.utils.to_categorical(y_train, num_classes)\n",
    "y_crossval = keras.utils.to_categorical(y_crossval, num_classes)"
   ]
  },
  {
   "cell_type": "code",
   "execution_count": null,
   "metadata": {
    "_uuid": "2b4c5062d5961e4a9e651473e3f90f109b5b702a"
   },
   "outputs": [],
   "source": [
    "# creating the keras sequential model CNN\n",
    "#following the documentation example online\n",
    "\n",
    "model = Sequential()\n",
    "model.add(Conv2D(32, kernel_size=(3, 3),\n",
    "                 activation='relu',\n",
    "                 input_shape=input_shape))\n",
    "model.add(Conv2D(64, (3, 3), activation='relu'))\n",
    "model.add(MaxPooling2D(pool_size=(2, 2)))\n",
    "model.add(Dropout(0.25))\n",
    "model.add(Flatten())\n",
    "model.add(Dense(128, activation='relu'))\n",
    "model.add(Dropout(0.5))\n",
    "model.add(Dense(num_classes, activation='softmax'))\n",
    "\n",
    "model.compile(loss=keras.losses.categorical_crossentropy,\n",
    "              optimizer=keras.optimizers.Adadelta(),\n",
    "              metrics=['accuracy'])\n",
    "\n",
    "model.fit(x_train, y_train,\n",
    "          batch_size=batch_size,\n",
    "          epochs=epochs,\n",
    "          verbose=1,\n",
    "          validation_data=(x_crossval, y_crossval))\n",
    "score = model.evaluate(x_crossval, y_crossval, verbose=0)\n",
    "print('Test loss:', score[0])\n",
    "print('Test accuracy:', score[1])"
   ]
  },
  {
   "cell_type": "code",
   "execution_count": null,
   "metadata": {
    "_uuid": "00f5626eaab37496eae1ea0cb9736684ee6ea9cd"
   },
   "outputs": [],
   "source": [
    "# the predictions\n",
    "pred = model.predict_classes(x_test, verbose=1)\n",
    "print(pred)"
   ]
  },
  {
   "cell_type": "code",
   "execution_count": null,
   "metadata": {
    "_uuid": "ea9fb6f9dabd5923ecb2f27a14d85590c68c7620"
   },
   "outputs": [],
   "source": [
    "pred"
   ]
  },
  {
   "cell_type": "code",
   "execution_count": null,
   "metadata": {
    "_uuid": "765316dfeea61fe7f5ca1c844b4042f6f7c8db35"
   },
   "outputs": [],
   "source": [
    "submission = pd.DataFrame(data= {'ImageId': list(range(1,28001)), 'Label': pred })\n",
    "print(submission)"
   ]
  },
  {
   "cell_type": "code",
   "execution_count": null,
   "metadata": {
    "_kg_hide-input": true,
    "_kg_hide-output": true,
    "_uuid": "aed9bb81eb61094af4f1c872445b33d92d9c86d4"
   },
   "outputs": [],
   "source": [
    "submission.to_csv(\"m9harv_digitrecog.csv\", index=False, header=True)"
   ]
  },
  {
   "cell_type": "code",
   "execution_count": null,
   "metadata": {
    "_uuid": "36364cee44a0deb2391bc1e32472b0a3afbc182c"
   },
   "outputs": [],
   "source": []
  }
 ],
 "metadata": {
  "kernelspec": {
   "display_name": "Python 3",
   "language": "python",
   "name": "python3"
  },
  "language_info": {
   "codemirror_mode": {
    "name": "ipython",
    "version": 3
   },
   "file_extension": ".py",
   "mimetype": "text/x-python",
   "name": "python",
   "nbconvert_exporter": "python",
   "pygments_lexer": "ipython3",
   "version": "3.5.2"
  }
 },
 "nbformat": 4,
 "nbformat_minor": 1
}
