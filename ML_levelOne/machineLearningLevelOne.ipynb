{
  "cells": [
    {
      "metadata": {
        "_uuid": "b6269c0e8f417f82daf093dda8fa0da6d2c57d86",
        "_cell_guid": "e81ee64d-e474-4662-9036-ce23df615199"
      },
      "cell_type": "markdown",
      "source": "# Introduction\n**This will be your workspace for Kaggle's Machine Learning education track.**\n\nYou will build and continually improve a model to predict housing prices as you work through each tutorial.  Fork this notebook and write your code in it.\n\nThe data from the tutorial, the Melbourne data, is not available in this workspace.  You will need to translate the concepts to work with the data in this notebook, the Iowa data.\n\nCome to the [Learn Discussion](https://www.kaggle.com/learn-forum) forum for any questions or comments. \n\n# Write Your Code Below\n\n"
    },
    {
      "metadata": {
        "_uuid": "1c728098629e1301643443b1341556a15c089b2b",
        "_cell_guid": "86b26423-563a-4fa1-a595-89e25ff93089",
        "trusted": true,
        "collapsed": true
      },
      "cell_type": "code",
      "source": "# Put these at the top of every notebook, to get automatic reloading and inline plotting\n%reload_ext autoreload\n%autoreload 2\n%matplotlib inline\nimport pandas as pd\nimport numpy as np\nimport matplotlib.pyplot as plt\nfrom sklearn.tree import DecisionTreeRegressor\nfrom sklearn.metrics import mean_absolute_error\nfrom sklearn.model_selection import train_test_split\nfrom sklearn.ensemble import RandomForestRegressor\nfrom sklearn.preprocessing import Imputer\n\ntrain_file_path = '../input/train.csv'\ntest_file_path = '../input/test.csv'\nsubm_sample_file_path = '../input/sample_submission.csv'\n\ntrain_data = pd.read_csv(train_file_path)\ntest_data = pd.read_csv(test_file_path)\nsample_submission = pd.read_csv(subm_sample_file_path)",
      "execution_count": 71,
      "outputs": []
    },
    {
      "metadata": {
        "_kg_hide-output": true,
        "scrolled": true,
        "_uuid": "ac9f410a176877aed379e787dea7e1469d6dd73d",
        "_cell_guid": "24b2af01-44cb-4bb6-a420-79c3edf41e96",
        "trusted": true
      },
      "cell_type": "code",
      "source": "#test_data.columns",
      "execution_count": 72,
      "outputs": []
    },
    {
      "metadata": {
        "_uuid": "41a26d733acba331f254e4b3b0602fb44b5f5b4e",
        "_cell_guid": "bb114650-acb9-405d-9b88-a67291849dae",
        "trusted": true
      },
      "cell_type": "code",
      "source": "#test_data['GrLivArea'] \n          # 'BedroomAbvGr','LotArea', 'YearBuilt', 'GarageCars', 'Fireplaces', 'OverallCond', 'KitchenAbvGr', 'GrLivArea']",
      "execution_count": 73,
      "outputs": []
    },
    {
      "metadata": {
        "scrolled": true,
        "_uuid": "f422687dc4d4b875b7018c755d096869654ce990",
        "_cell_guid": "52ec402c-61b6-47d8-be48-e688e19a4a26",
        "trusted": true
      },
      "cell_type": "code",
      "source": "y_train = train_data['SalePrice']\ny_train",
      "execution_count": 74,
      "outputs": [
        {
          "output_type": "execute_result",
          "execution_count": 74,
          "data": {
            "text/plain": "0       208500\n1       181500\n2       223500\n3       140000\n4       250000\n5       143000\n6       307000\n7       200000\n8       129900\n9       118000\n10      129500\n11      345000\n12      144000\n13      279500\n14      157000\n15      132000\n16      149000\n17       90000\n18      159000\n19      139000\n20      325300\n21      139400\n22      230000\n23      129900\n24      154000\n25      256300\n26      134800\n27      306000\n28      207500\n29       68500\n         ...  \n1430    192140\n1431    143750\n1432     64500\n1433    186500\n1434    160000\n1435    174000\n1436    120500\n1437    394617\n1438    149700\n1439    197000\n1440    191000\n1441    149300\n1442    310000\n1443    121000\n1444    179600\n1445    129000\n1446    157900\n1447    240000\n1448    112000\n1449     92000\n1450    136000\n1451    287090\n1452    145000\n1453     84500\n1454    185000\n1455    175000\n1456    210000\n1457    266500\n1458    142125\n1459    147500\nName: SalePrice, Length: 1460, dtype: int64"
          },
          "metadata": {}
        }
      ]
    },
    {
      "metadata": {
        "_uuid": "981ec27d251b8d4a80fbfcd57e6666d41fb208b9",
        "_cell_guid": "aa4b0166-9a23-4d9d-9b6b-d22102ba155e",
        "trusted": true
      },
      "cell_type": "code",
      "source": "#my_imputer = Imputer()\npredictors = ['FullBath', 'BedroomAbvGr','LotArea', 'YearBuilt', 'GarageCars',\n              'Fireplaces', 'OverallCond', 'KitchenAbvGr', 'GrLivArea']\nx_train = train_data[predictors]\n#x_test = test_data[predictors]\n#X_test = my_imputer.fit_transform(x_test)\n\n###########################################################\n# DONT REPLACE WITH JUST 0 as this is an int?\nX_test = x_test.fillna(1e-6).astype(np.float32)\n##############################################################\nX_train, X_val, Y_train, Y_val = train_test_split(x_train, y_train, train_size=0.3)\n\nX_test.reset_index()\nnp.any(np.isfinite(X_test))\nX_test.describe()",
      "execution_count": 82,
      "outputs": [
        {
          "output_type": "stream",
          "text": "/opt/conda/lib/python3.6/site-packages/sklearn/model_selection/_split.py:2026: FutureWarning: From version 0.21, test_size will always complement train_size unless both are specified.\n  FutureWarning)\n",
          "name": "stderr"
        },
        {
          "output_type": "execute_result",
          "execution_count": 82,
          "data": {
            "text/plain": "          FullBath  BedroomAbvGr       LotArea    YearBuilt   GarageCars  \\\ncount  1459.000000   1459.000000   1459.000000  1459.000000  1459.000000   \nmean      1.570939      2.854010   9819.161133  1971.357788     1.764907   \nstd       0.555186      0.829785   4955.516602    30.390051     0.777059   \nmin       0.000000      0.000000   1470.000000  1879.000000     0.000000   \n25%       1.000000      2.000000   7391.000000  1953.000000     1.000000   \n50%       2.000000      3.000000   9399.000000  1973.000000     2.000000   \n75%       2.000000      3.000000  11517.500000  2001.000000     2.000000   \nmax       4.000000      6.000000  56600.000000  2010.000000     5.000000   \n\n        Fireplaces  OverallCond  KitchenAbvGr    GrLivArea  \ncount  1459.000000  1459.000000   1459.000000  1459.000000  \nmean      0.581220     5.553804      1.042495  1486.045898  \nstd       0.647423     1.113733      0.208470   485.566040  \nmin       0.000000     1.000000      0.000000   407.000000  \n25%       0.000000     5.000000      1.000000  1117.500000  \n50%       0.000000     5.000000      1.000000  1432.000000  \n75%       1.000000     6.000000      1.000000  1721.000000  \nmax       4.000000     9.000000      2.000000  5095.000000  ",
            "text/html": "<div>\n<style>\n    .dataframe thead tr:only-child th {\n        text-align: right;\n    }\n\n    .dataframe thead th {\n        text-align: left;\n    }\n\n    .dataframe tbody tr th {\n        vertical-align: top;\n    }\n</style>\n<table border=\"1\" class=\"dataframe\">\n  <thead>\n    <tr style=\"text-align: right;\">\n      <th></th>\n      <th>FullBath</th>\n      <th>BedroomAbvGr</th>\n      <th>LotArea</th>\n      <th>YearBuilt</th>\n      <th>GarageCars</th>\n      <th>Fireplaces</th>\n      <th>OverallCond</th>\n      <th>KitchenAbvGr</th>\n      <th>GrLivArea</th>\n    </tr>\n  </thead>\n  <tbody>\n    <tr>\n      <th>count</th>\n      <td>1459.000000</td>\n      <td>1459.000000</td>\n      <td>1459.000000</td>\n      <td>1459.000000</td>\n      <td>1459.000000</td>\n      <td>1459.000000</td>\n      <td>1459.000000</td>\n      <td>1459.000000</td>\n      <td>1459.000000</td>\n    </tr>\n    <tr>\n      <th>mean</th>\n      <td>1.570939</td>\n      <td>2.854010</td>\n      <td>9819.161133</td>\n      <td>1971.357788</td>\n      <td>1.764907</td>\n      <td>0.581220</td>\n      <td>5.553804</td>\n      <td>1.042495</td>\n      <td>1486.045898</td>\n    </tr>\n    <tr>\n      <th>std</th>\n      <td>0.555186</td>\n      <td>0.829785</td>\n      <td>4955.516602</td>\n      <td>30.390051</td>\n      <td>0.777059</td>\n      <td>0.647423</td>\n      <td>1.113733</td>\n      <td>0.208470</td>\n      <td>485.566040</td>\n    </tr>\n    <tr>\n      <th>min</th>\n      <td>0.000000</td>\n      <td>0.000000</td>\n      <td>1470.000000</td>\n      <td>1879.000000</td>\n      <td>0.000000</td>\n      <td>0.000000</td>\n      <td>1.000000</td>\n      <td>0.000000</td>\n      <td>407.000000</td>\n    </tr>\n    <tr>\n      <th>25%</th>\n      <td>1.000000</td>\n      <td>2.000000</td>\n      <td>7391.000000</td>\n      <td>1953.000000</td>\n      <td>1.000000</td>\n      <td>0.000000</td>\n      <td>5.000000</td>\n      <td>1.000000</td>\n      <td>1117.500000</td>\n    </tr>\n    <tr>\n      <th>50%</th>\n      <td>2.000000</td>\n      <td>3.000000</td>\n      <td>9399.000000</td>\n      <td>1973.000000</td>\n      <td>2.000000</td>\n      <td>0.000000</td>\n      <td>5.000000</td>\n      <td>1.000000</td>\n      <td>1432.000000</td>\n    </tr>\n    <tr>\n      <th>75%</th>\n      <td>2.000000</td>\n      <td>3.000000</td>\n      <td>11517.500000</td>\n      <td>2001.000000</td>\n      <td>2.000000</td>\n      <td>1.000000</td>\n      <td>6.000000</td>\n      <td>1.000000</td>\n      <td>1721.000000</td>\n    </tr>\n    <tr>\n      <th>max</th>\n      <td>4.000000</td>\n      <td>6.000000</td>\n      <td>56600.000000</td>\n      <td>2010.000000</td>\n      <td>5.000000</td>\n      <td>4.000000</td>\n      <td>9.000000</td>\n      <td>2.000000</td>\n      <td>5095.000000</td>\n    </tr>\n  </tbody>\n</table>\n</div>"
          },
          "metadata": {}
        }
      ]
    },
    {
      "metadata": {
        "_uuid": "1859c0e02f8a6933c1cf2ec4cbdcac896b1f383f",
        "_cell_guid": "db23f30b-da3d-4657-9c4b-49a985d09012",
        "trusted": true
      },
      "cell_type": "code",
      "source": "my_model = DecisionTreeRegressor(max_leaf_nodes=42)\nmy_model.fit(X_train, Y_train)\n",
      "execution_count": 83,
      "outputs": [
        {
          "output_type": "execute_result",
          "execution_count": 83,
          "data": {
            "text/plain": "DecisionTreeRegressor(criterion='mse', max_depth=None, max_features=None,\n           max_leaf_nodes=42, min_impurity_decrease=0.0,\n           min_impurity_split=None, min_samples_leaf=1,\n           min_samples_split=2, min_weight_fraction_leaf=0.0,\n           presort=False, random_state=None, splitter='best')"
          },
          "metadata": {}
        }
      ]
    },
    {
      "metadata": {
        "_uuid": "8330a4abc3cbfe1d4b53e4fbf840ce8d9666c8bc",
        "_cell_guid": "544a5600-d49b-4c85-adfd-c16e44401491",
        "trusted": true
      },
      "cell_type": "code",
      "source": "predictions = my_model.predict(X_val)\nmean_absolute_error(Y_val, predictions)",
      "execution_count": 84,
      "outputs": [
        {
          "output_type": "execute_result",
          "execution_count": 84,
          "data": {
            "text/plain": "28053.69029514923"
          },
          "metadata": {}
        }
      ]
    },
    {
      "metadata": {
        "_uuid": "9373cb14391db3b1ae1749971d2a8848c1e53835",
        "_cell_guid": "ccff71dc-78e6-4701-8ec6-8b621c84184b",
        "trusted": true
      },
      "cell_type": "code",
      "source": "def get_mae(max_leaf_nodes, predictors_train, predictors_val, targ_train, targ_val):\n    model = DecisionTreeRegressor(max_leaf_nodes=max_leaf_nodes, random_state=0)\n    model.fit(predictors_train, targ_train)\n    preds_val = model.predict(predictors_val)\n    mae = mean_absolute_error(targ_val, preds_val)\n    return(mae)\n\nlistNumbers = list(range(40, 50))\n\nfor max_leaf_nodes in listNumbers:\n    my_mae = get_mae(max_leaf_nodes, X_train, X_val, Y_train, Y_val)\n    print(\"Max leaf nodes: %d  \\t\\t Mean Absolute Error:  %d\" %(max_leaf_nodes, my_mae))",
      "execution_count": 85,
      "outputs": [
        {
          "output_type": "stream",
          "text": "Max leaf nodes: 40  \t\t Mean Absolute Error:  27844\nMax leaf nodes: 41  \t\t Mean Absolute Error:  27588\nMax leaf nodes: 42  \t\t Mean Absolute Error:  27548\nMax leaf nodes: 43  \t\t Mean Absolute Error:  27589\nMax leaf nodes: 44  \t\t Mean Absolute Error:  27530\nMax leaf nodes: 45  \t\t Mean Absolute Error:  27535\nMax leaf nodes: 46  \t\t Mean Absolute Error:  27506\nMax leaf nodes: 47  \t\t Mean Absolute Error:  27520\nMax leaf nodes: 48  \t\t Mean Absolute Error:  27302\nMax leaf nodes: 49  \t\t Mean Absolute Error:  27323\n",
          "name": "stdout"
        }
      ]
    },
    {
      "metadata": {
        "_uuid": "262a498bd8c66c57ce844d3daa0c3ad191b79934",
        "_cell_guid": "f2de123f-5963-4650-aab3-5e45fde1bd58",
        "trusted": true
      },
      "cell_type": "code",
      "source": "forest_model = RandomForestRegressor()\nforest_model.fit(X_train, Y_train)\nforest_predictions = forest_model.predict(X_val)\nprint(mean_absolute_error(Y_val, forest_predictions))",
      "execution_count": 86,
      "outputs": [
        {
          "output_type": "stream",
          "text": "24158.4887476\n",
          "name": "stdout"
        }
      ]
    },
    {
      "metadata": {
        "trusted": true,
        "scrolled": false,
        "_uuid": "d9e49c027a5ce7ef0493717d3826db1aedea5faa"
      },
      "cell_type": "code",
      "source": "predicted_prices = forest_model.predict(X_test)\nprint(predicted_prices)",
      "execution_count": 87,
      "outputs": [
        {
          "output_type": "stream",
          "text": "[ 105700.  160905.  211330. ...,  179830.  122345.  302400.]\n",
          "name": "stdout"
        }
      ]
    },
    {
      "metadata": {
        "_cell_guid": "21433142-b71d-4bfc-8b91-2d24450389ef",
        "_uuid": "0770d5785451ca4503d36be2d06986a597a4bf4c",
        "trusted": true
      },
      "cell_type": "code",
      "source": "#submission file\nmy_submission = pd.DataFrame({'Id': test_data.Id, 'SalePrice': predicted_prices})\n# you could use any filename. We choose submission here\nmy_submission.to_csv('submission.csv', index=False)",
      "execution_count": 90,
      "outputs": []
    },
    {
      "metadata": {
        "trusted": true,
        "collapsed": true,
        "_uuid": "2f6374acb800632bd820d33a06b9aa4e44276285"
      },
      "cell_type": "code",
      "source": "",
      "execution_count": null,
      "outputs": []
    }
  ],
  "metadata": {
    "language_info": {
      "name": "python",
      "version": "3.6.4",
      "mimetype": "text/x-python",
      "codemirror_mode": {
        "name": "ipython",
        "version": 3
      },
      "pygments_lexer": "ipython3",
      "nbconvert_exporter": "python",
      "file_extension": ".py"
    },
    "kernelspec": {
      "display_name": "Python 3",
      "language": "python",
      "name": "python3"
    }
  },
  "nbformat": 4,
  "nbformat_minor": 1
}